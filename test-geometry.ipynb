{
 "cells": [
  {
   "cell_type": "code",
   "execution_count": 1,
   "id": "1119137e-33b9-4574-b532-7e7e9ecd48b0",
   "metadata": {},
   "outputs": [],
   "source": [
    "from geometry import *\n",
    "import math"
   ]
  },
  {
   "cell_type": "code",
   "execution_count": 2,
   "id": "04a12d28-6f59-436e-bdd6-8de0d9542202",
   "metadata": {},
   "outputs": [
    {
     "name": "stdout",
     "output_type": "stream",
     "text": [
      "p1=(0.000 0.000 0.000) p2=(1.000 2.000 3.000) p3=(1.000 2.000 3.000) p4=(1.000 2.000 3.000)\n"
     ]
    }
   ],
   "source": [
    "p1=Point()\n",
    "p2=Point(1,2,3)\n",
    "p3=p2.copy()\n",
    "p4=p1+p2\n",
    "print(f'p1={p1} p2={p2} p3={p3} p4={p4}')"
   ]
  },
  {
   "cell_type": "code",
   "execution_count": 3,
   "id": "3893572c-762f-4218-8aa4-386860444e3d",
   "metadata": {},
   "outputs": [
    {
     "name": "stdout",
     "output_type": "stream",
     "text": [
      "(3.142 3.142 3.142)\n"
     ]
    }
   ],
   "source": [
    "pc=Point(math.pi, math.pi, math.pi)\n",
    "print(pc)"
   ]
  },
  {
   "cell_type": "code",
   "execution_count": 4,
   "id": "0e940a31-e522-436d-bf7d-2f07e40ab798",
   "metadata": {},
   "outputs": [
    {
     "name": "stdout",
     "output_type": "stream",
     "text": [
      "p5=(1.000 1.000 1.000) [1. 1. 1. 1.]\n"
     ]
    }
   ],
   "source": [
    "p5=p1+1\n",
    "print(f'p5={p5} {p5.p}')"
   ]
  },
  {
   "cell_type": "code",
   "execution_count": 5,
   "id": "541e3599-4859-43a8-bd4a-c6717c9d9ab9",
   "metadata": {},
   "outputs": [
    {
     "name": "stdout",
     "output_type": "stream",
     "text": [
      "p6=(2.000 4.000 6.000) [2 4 6 1]\n"
     ]
    }
   ],
   "source": [
    "p6=p2*2\n",
    "print(f'p6={p6} {p6.p}')"
   ]
  },
  {
   "cell_type": "code",
   "execution_count": 6,
   "id": "9acb1b1a-7da7-4231-ae08-aa383ca8e6c0",
   "metadata": {},
   "outputs": [
    {
     "name": "stdout",
     "output_type": "stream",
     "text": [
      "1 2 3\n"
     ]
    }
   ],
   "source": [
    "print(p2.x(), p2.y(), p3.z())"
   ]
  },
  {
   "cell_type": "code",
   "execution_count": 7,
   "id": "c3200f06-ceac-4fee-b0cf-126de90a4506",
   "metadata": {},
   "outputs": [
    {
     "name": "stdout",
     "output_type": "stream",
     "text": [
      "p6=(0.500 1.000 1.500) [0.5 1.  1.5 1. ]\n"
     ]
    }
   ],
   "source": [
    "p6=p2/2.0\n",
    "print(f'p6={p6} {p6.p}')"
   ]
  },
  {
   "cell_type": "code",
   "execution_count": 8,
   "id": "ba7aab67-1d23-4121-ad90-8c0875591e22",
   "metadata": {},
   "outputs": [
    {
     "name": "stdout",
     "output_type": "stream",
     "text": [
      "p6=(4.000 6.000 8.000) [4. 6. 8. 1.]\n"
     ]
    }
   ],
   "source": [
    "p5=Point(3,4,5)\n",
    "p6=p4+p5\n",
    "print(f'p6={p6} {p6.p}')"
   ]
  },
  {
   "cell_type": "code",
   "execution_count": 9,
   "id": "e422c8a1-5b51-43e4-871a-709cb9712e37",
   "metadata": {},
   "outputs": [
    {
     "name": "stdout",
     "output_type": "stream",
     "text": [
      "p6=(2.000 2.000 2.000) [2 2 2 1]\n"
     ]
    }
   ],
   "source": [
    "p6=p5-p2\n",
    "print(f'p6={p6} {p6.p}')"
   ]
  },
  {
   "cell_type": "code",
   "execution_count": 10,
   "id": "323f9940-c8a7-46ba-baea-a22eb04022bc",
   "metadata": {},
   "outputs": [
    {
     "name": "stdout",
     "output_type": "stream",
     "text": [
      "p6=(1.000 2.000 3.000) [1. 2. 3. 1.]\n"
     ]
    }
   ],
   "source": [
    "t1=Transform()\n",
    "p6=p2@t1\n",
    "print(f'p6={p6} {p6.p}')"
   ]
  },
  {
   "cell_type": "code",
   "execution_count": 11,
   "id": "4557215b-2928-4591-b3da-012d0b7ae8f3",
   "metadata": {},
   "outputs": [],
   "source": [
    "x90=Transform.xrot(90)\n",
    "y90=Transform.yrot(90)\n",
    "z90=Transform.zrot(90)\n"
   ]
  },
  {
   "cell_type": "code",
   "execution_count": 12,
   "id": "f9ee355f-06fe-438c-a3d3-00ed36fe4f1f",
   "metadata": {},
   "outputs": [],
   "source": [
    "x45=Transform.xrot(45)\n",
    "y45=Transform.yrot(45)\n",
    "z45=Transform.zrot(45)\n"
   ]
  },
  {
   "cell_type": "code",
   "execution_count": 13,
   "id": "7c5669da-48c5-4aab-b96b-c7c0d9c53efb",
   "metadata": {},
   "outputs": [
    {
     "name": "stdout",
     "output_type": "stream",
     "text": [
      "[[ 1.  0.  0.  0.]\n",
      " [ 0.  0. -1.  0.]\n",
      " [ 0.  1.  0.  0.]\n",
      " [ 0.  0.  0.  1.]]\n",
      "[[ 1.     0.     0.     0.   ]\n",
      " [ 0.     0.707 -0.707  0.   ]\n",
      " [ 0.     0.707  0.707  0.   ]\n",
      " [ 0.     0.     0.     1.   ]]\n"
     ]
    }
   ],
   "source": [
    "print(str(x90))\n",
    "print(str(x45))"
   ]
  },
  {
   "cell_type": "code",
   "execution_count": 14,
   "id": "2f59d4b2-3ac5-485a-b9dc-05dddcfa33aa",
   "metadata": {},
   "outputs": [],
   "source": [
    "a=(x90@y90).m\n"
   ]
  },
  {
   "cell_type": "code",
   "execution_count": 15,
   "id": "eee697c9-b97a-4b49-86ed-a90566a62221",
   "metadata": {},
   "outputs": [
    {
     "name": "stdout",
     "output_type": "stream",
     "text": [
      "(0.707 -0.707 0.000)\n",
      "(0.707 0.000 0.707)\n",
      "(1.000 0.000 0.000)\n"
     ]
    }
   ],
   "source": [
    "px=Point(1,0,0)\n",
    "print(px@z45)\n",
    "print(px@y45)\n",
    "print(px@x45)"
   ]
  },
  {
   "cell_type": "code",
   "execution_count": 16,
   "id": "08a4711c-33dd-478a-99a2-42a034e0cb83",
   "metadata": {},
   "outputs": [
    {
     "name": "stdout",
     "output_type": "stream",
     "text": [
      "(0.707 0.707 0.000)\n",
      "(1.000 0.000 0.000)\n"
     ]
    }
   ],
   "source": [
    "print(px@-z45)\n",
    "print((px@z45)@-z45)"
   ]
  },
  {
   "cell_type": "code",
   "execution_count": 17,
   "id": "e4d94468-7fdc-470b-bac1-c040e40cd704",
   "metadata": {},
   "outputs": [
    {
     "name": "stdout",
     "output_type": "stream",
     "text": [
      "[[ 1.     0.     0.     1.   ]\n",
      " [ 0.     0.707 -0.707  2.   ]\n",
      " [ 0.     0.707  0.707  3.   ]\n",
      " [ 0.     0.     0.     1.   ]]\n",
      "[[ 1.     0.     0.    -1.   ]\n",
      " [ 0.     0.707  0.707 -3.536]\n",
      " [ 0.    -0.707  0.707 -0.707]\n",
      " [ 0.     0.     0.     1.   ]]\n"
     ]
    }
   ],
   "source": [
    "x1 = x45.xlate(Point(1,2,3))\n",
    "print(x1)\n",
    "print(-x1)"
   ]
  },
  {
   "cell_type": "code",
   "execution_count": 20,
   "id": "28d66b1c-2ea6-42e5-bdd3-7bf68f2f98ae",
   "metadata": {},
   "outputs": [
    {
     "name": "stdout",
     "output_type": "stream",
     "text": [
      "1.414213562373095\n",
      "1.0\n",
      "1.0\n"
     ]
    }
   ],
   "source": [
    "p10=Point(1,0,0)\n",
    "p11 = p10@z45 \n",
    "p12 = p10@-z45\n",
    "print(p11.dist(p12)) \n",
    "print(p11.dist(Point())) \n",
    "print(p11.length())\n",
    "\n"
   ]
  },
  {
   "cell_type": "code",
   "execution_count": null,
   "id": "0213e08d-7537-49ad-9b99-aa4deaf076a2",
   "metadata": {},
   "outputs": [],
   "source": []
  }
 ],
 "metadata": {
  "kernelspec": {
   "display_name": "Python 3 (ipykernel)",
   "language": "python",
   "name": "python3"
  },
  "language_info": {
   "codemirror_mode": {
    "name": "ipython",
    "version": 3
   },
   "file_extension": ".py",
   "mimetype": "text/x-python",
   "name": "python",
   "nbconvert_exporter": "python",
   "pygments_lexer": "ipython3",
   "version": "3.12.2"
  }
 },
 "nbformat": 4,
 "nbformat_minor": 5
}
