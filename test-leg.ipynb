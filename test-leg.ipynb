{
 "cells": [
  {
   "cell_type": "code",
   "execution_count": 10,
   "id": "441806b4-43b3-418d-8705-2e349e0526a2",
   "metadata": {},
   "outputs": [],
   "source": [
    "from math import *\n",
    "from leg import *\n",
    "import numpy as np"
   ]
  },
  {
   "cell_type": "code",
   "execution_count": 11,
   "id": "937966c6-a641-492a-89af-923fb1ee663d",
   "metadata": {},
   "outputs": [
    {
     "name": "stdout",
     "output_type": "stream",
     "text": [
      "LegAngles(cox_angle=96.3401917459099, femur_angle=29.949491583397638, tibia_angle=62.28977795074845)\n",
      "(x=1.000 y=0.200 z=-1.800) (x=1.000 y=0.200 z=-1.800)\n",
      "Good!\n"
     ]
    }
   ],
   "source": [
    "\n",
    "x,y,z=1,0.2,-1.8\n",
    "leg1 = QuadLeg(1, 'fr', Point(), 2, 2, ServoIds(1,2,3))\n",
    "pos1 = Point(x, y, z)\n",
    "ang1 = leg1.get_angles(pos1)\n",
    "print(ang1)\n",
    "rpos1 = leg1.get_toe_pos(ang1)\n",
    "print(pos1, rpos1)\n",
    "print(\"Good!\" if pos1==rpos1 else \"Bad :-(\")"
   ]
  },
  {
   "cell_type": "code",
   "execution_count": null,
   "id": "3f79ebaa-0270-4df6-b52b-cc1b243ae687",
   "metadata": {},
   "outputs": [],
   "source": []
  },
  {
   "cell_type": "code",
   "execution_count": 12,
   "id": "3c138813-1ccf-415a-b58b-938e2cc0898d",
   "metadata": {},
   "outputs": [
    {
     "name": "stdout",
     "output_type": "stream",
     "text": [
      "All tests passed!\n"
     ]
    }
   ],
   "source": [
    "good = True\n",
    "for pos in [(0.3, 0, -1.8),\n",
    "            (0.4, 0, -1.8),\n",
    "            (0.6, 0, -1.7),\n",
    "            (0.6, 0, -1.6),\n",
    "           (0.8, 0, -1.6),\n",
    "           (0.9, 0, -1.5),\n",
    "           (1, 0, -1.8),\n",
    "           (1, 0, -2),\n",
    "           (1, 0, -2.3),\n",
    "           (1, 0, -3),\n",
    "           (1.2, 0, -3.6),\n",
    "           (1, 0.5, -3),\n",
    "            (1, -0.5, -3),\n",
    "           (1, 1, -3),\n",
    "           (1, -1, -3),\n",
    "           (0, 0.2, -3),\n",
    "           (-1, 0.4, -3.2)]:\n",
    "    p = Point(*pos)\n",
    "    ang1 = leg1.get_angles(p)\n",
    "    rp = leg1.get_toe_pos(ang1)\n",
    "    if rp!=p:\n",
    "        print(\"Bad!: \", p, rp, '\\n', ang1)\n",
    "        good = False\n",
    "if good:\n",
    "    print(\"All tests passed!\")"
   ]
  },
  {
   "cell_type": "code",
   "execution_count": 13,
   "id": "d454649a-d0cd-4f72-a30d-a31498f0a705",
   "metadata": {},
   "outputs": [
    {
     "name": "stdout",
     "output_type": "stream",
     "text": [
      "LegAngles(cox_angle=96.3401917459099, femur_angle=29.949491583397638, tibia_angle=62.28977795074845)\n",
      "[ 1.   0.2 -1.8  1. ] [ 1.   0.2 -1.8  1. ]\n",
      "True True True\n",
      "1.1102230246251565e-16\n",
      "Good!\n"
     ]
    }
   ],
   "source": [
    "x,y,z=0, 0.2, -3\n",
    "leg1 = QuadLeg(1, Point(), 'fr', 2, 2, ServoIds(1,2,3))\n",
    "ang1 = leg1.get_angles(pos1)\n",
    "print(ang1)\n",
    "rpos1 = leg1.get_toe_pos(ang1)\n",
    "print(pos1.p, rpos1.p)\n",
    "print(equal( pos1.p[0], rpos1.p[0]), equal(pos1.p[1], rpos1.p[1]), equal(pos1.p[2], rpos1.p[2])) \n",
    "print(abs(pos1.p[0]- rpos1.p[0]))\n",
    "print(\"Good!\" if pos1==rpos1 else \"Bad :-(\")"
   ]
  },
  {
   "cell_type": "code",
   "execution_count": 14,
   "id": "ad869085-f7a6-449b-9225-d7c276d76a30",
   "metadata": {},
   "outputs": [
    {
     "ename": "TypeError",
     "evalue": "Leg.goto() missing 1 required positional argument: 'actions'",
     "output_type": "error",
     "traceback": [
      "\u001b[0;31m---------------------------------------------------------------------------\u001b[0m",
      "\u001b[0;31mTypeError\u001b[0m                                 Traceback (most recent call last)",
      "Cell \u001b[0;32mIn[14], line 2\u001b[0m\n\u001b[1;32m      1\u001b[0m target \u001b[38;5;241m=\u001b[39m Point(\u001b[38;5;241m1\u001b[39m, \u001b[38;5;241m1\u001b[39m, \u001b[38;5;241m-\u001b[39m\u001b[38;5;241m3\u001b[39m)\n\u001b[0;32m----> 2\u001b[0m leg1\u001b[38;5;241m.\u001b[39mgoto(Point(\u001b[38;5;241m0\u001b[39m, \u001b[38;5;241m0\u001b[39m, \u001b[38;5;241m-\u001b[39m\u001b[38;5;241m3\u001b[39m))\n\u001b[1;32m      3\u001b[0m \u001b[38;5;28mprint\u001b[39m(leg1\u001b[38;5;241m.\u001b[39mstep(StepPhase\u001b[38;5;241m.\u001b[39mclear, target))\n\u001b[1;32m      4\u001b[0m \u001b[38;5;28mprint\u001b[39m(leg1\u001b[38;5;241m.\u001b[39mstep(StepPhase\u001b[38;5;241m.\u001b[39mlift, target))\n",
      "\u001b[0;31mTypeError\u001b[0m: Leg.goto() missing 1 required positional argument: 'actions'"
     ]
    }
   ],
   "source": [
    "target = Point(1, 1, -3)\n",
    "leg1.goto(Point(0, 0, -3))\n",
    "print(leg1.step(StepPhase.clear, target))\n",
    "print(leg1.step(StepPhase.lift, target))\n",
    "print(leg1.step(StepPhase.drop, target))\n",
    "print(leg1.step(StepPhase.pose, target))\n"
   ]
  },
  {
   "cell_type": "code",
   "execution_count": null,
   "id": "7bb9ae0e-4478-4249-a0b8-6263fe7d8101",
   "metadata": {},
   "outputs": [],
   "source": [
    "a1=20.0\n",
    "a2=30.0\n",
    "a3=(a1+a2)/2\n",
    "t1=Transform()@Transform.xrot(a1)@Transform.yrot(a1)@Transform.zrot(a1)\n",
    "t2=Transform()@Transform.xrot(a2)@Transform.yrot(a2)@Transform.zrot(a2)\n",
    "t3=Transform()@Transform.xrot(a3)@Transform.yrot(a3)@Transform.zrot(a3)\n",
    "t4=Transform((t1.m+t2.m)/2)\n",
    "t5=t3.m-t4.m"
   ]
  },
  {
   "cell_type": "code",
   "execution_count": null,
   "id": "8d5e88ac-14e6-46b8-98bc-2db9be90dcf4",
   "metadata": {},
   "outputs": [],
   "source": [
    "print(t1)\n",
    "print(t2)\n",
    "print(t3)\n",
    "print(t4)\n",
    "print(t5)"
   ]
  },
  {
   "cell_type": "code",
   "execution_count": null,
   "id": "6e26e6e0-8fa1-4ef3-a1d4-fe85f4a10a25",
   "metadata": {},
   "outputs": [],
   "source": [
    "v1=Point(0.5,0.5,0.5)\n",
    "print(v1@t1)\n",
    "print(v1@t2)\n",
    "print(v1@t3)\n",
    "print(v1@t4)"
   ]
  },
  {
   "cell_type": "code",
   "execution_count": 21,
   "id": "d9c10d0c-c139-4884-9e06-c21d166b1b19",
   "metadata": {},
   "outputs": [
    {
     "name": "stdout",
     "output_type": "stream",
     "text": [
      "[[ 0.707 -0.707  0.     0.   ]\n",
      " [ 0.707  0.707  0.     0.   ]\n",
      " [ 0.     0.     1.     0.   ]\n",
      " [ 1.     0.     0.     1.   ]]\n",
      "(x=1.414 y=-1.000 z=0.000)\n",
      "(x=0.000 y=-0.414 z=0.000)\n",
      "(x=2.000 y=0.414 z=0.000)\n",
      "(x=0.586 y=1.000 z=0.000)\n"
     ]
    }
   ],
   "source": [
    "l1 = Point(1,1,0)\n",
    "l2 = Point(1,-1,0)\n",
    "l3 = Point(-1,1,0)\n",
    "l4 = Point(-1,-1,0)\n",
    "t1 = Transform.zrot(45).xlate(Point(1,0,0))\n",
    "print(t1)\n",
    "print(l1@t1-l1)\n",
    "print(l2@t1-l2)\n",
    "print(l3@t1-l3)\n",
    "print(l4@t1-l4)"
   ]
  },
  {
   "cell_type": "code",
   "execution_count": 16,
   "id": "09058875-d872-4b49-9c73-c99e4519c922",
   "metadata": {},
   "outputs": [
    {
     "name": "stdout",
     "output_type": "stream",
     "text": [
      "(x=0.000 y=0.000 z=0.000)\n"
     ]
    }
   ],
   "source": [
    "print(Point(0,0,0)@t1)"
   ]
  },
  {
   "cell_type": "code",
   "execution_count": 18,
   "id": "46ab5f02-3aa9-4641-bf9b-f75301df052c",
   "metadata": {},
   "outputs": [
    {
     "name": "stdout",
     "output_type": "stream",
     "text": [
      "[101.15845593   0.81115958   0.           1.        ]\n",
      "[[  0.985  -0.174   0.      0.   ]\n",
      " [  0.174   0.985   0.      0.   ]\n",
      " [  0.      0.      1.      0.   ]\n",
      " [100.      0.      0.      1.   ]]\n",
      "(x=101.158 y=0.811 z=0.000)\n",
      "[[  1.   0.   0.   0.]\n",
      " [  0.   1.   0.   0.]\n",
      " [  0.   0.   1.   0.]\n",
      " [  0. 100.   0.   1.]]\n",
      "(x=0.000 y=100.000 z=0.000)\n"
     ]
    }
   ],
   "source": [
    "x1=l1.p\n",
    "print(x1@t1.m)\n",
    "t1.m[3][0]=100\n",
    "print(t1)\n",
    "print(l1@t1)\n",
    "t2=Transform().xlate(Point(0,100,0))\n",
    "print(t2)\n",
    "print(Point(0,0,0)@t2)\n",
    "                     "
   ]
  },
  {
   "cell_type": "code",
   "execution_count": null,
   "id": "84bfb727-b5fe-4863-adb8-7451da915f98",
   "metadata": {},
   "outputs": [],
   "source": []
  }
 ],
 "metadata": {
  "kernelspec": {
   "display_name": "Python 3 (ipykernel)",
   "language": "python",
   "name": "python3"
  },
  "language_info": {
   "codemirror_mode": {
    "name": "ipython",
    "version": 3
   },
   "file_extension": ".py",
   "mimetype": "text/x-python",
   "name": "python",
   "nbconvert_exporter": "python",
   "pygments_lexer": "ipython3",
   "version": "3.12.2"
  }
 },
 "nbformat": 4,
 "nbformat_minor": 5
}
