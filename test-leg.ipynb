{
 "cells": [
  {
   "cell_type": "code",
   "execution_count": 1,
   "id": "441806b4-43b3-418d-8705-2e349e0526a2",
   "metadata": {},
   "outputs": [],
   "source": [
    "from math import *\n",
    "from leg import *"
   ]
  },
  {
   "cell_type": "code",
   "execution_count": 2,
   "id": "937966c6-a641-492a-89af-923fb1ee663d",
   "metadata": {},
   "outputs": [
    {
     "name": "stdout",
     "output_type": "stream",
     "text": [
      "LegAngles(cox_angle=0.0, femur_angle=29.77724345248263, tibia_angle=64.92843189291469)\n",
      "(x=1.000 y=-1.900)\n",
      "(x=1.000 y=0.000 z=-1.900) (x=1.000 y=-0.000 z=-1.900)\n",
      "Good!\n"
     ]
    }
   ],
   "source": [
    "\n",
    "x,y=1,-1.9\n",
    "leg1 = QuadLeg(1, Point(), 2, 2)\n",
    "pos1 = Point(x, 0, y)\n",
    "ang1 = leg1.get_angles(pos1)\n",
    "print(ang1)\n",
    "rpos1 = leg1.get_toe_pos(ang1)\n",
    "print(pos1, rpos1)\n",
    "print(\"Good!\" if pos1==rpos1 else \"Bad :-(\")"
   ]
  },
  {
   "cell_type": "code",
   "execution_count": null,
   "id": "3c138813-1ccf-415a-b58b-938e2cc0898d",
   "metadata": {},
   "outputs": [],
   "source": []
  }
 ],
 "metadata": {
  "kernelspec": {
   "display_name": "Python 3 (ipykernel)",
   "language": "python",
   "name": "python3"
  },
  "language_info": {
   "codemirror_mode": {
    "name": "ipython",
    "version": 3
   },
   "file_extension": ".py",
   "mimetype": "text/x-python",
   "name": "python",
   "nbconvert_exporter": "python",
   "pygments_lexer": "ipython3",
   "version": "3.12.2"
  }
 },
 "nbformat": 4,
 "nbformat_minor": 5
}
