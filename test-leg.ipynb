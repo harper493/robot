{
 "cells": [
  {
   "cell_type": "code",
   "execution_count": 1,
   "id": "441806b4-43b3-418d-8705-2e349e0526a2",
   "metadata": {},
   "outputs": [],
   "source": [
    "from math import *\n",
    "from leg import *"
   ]
  },
  {
   "cell_type": "code",
   "execution_count": 2,
   "id": "937966c6-a641-492a-89af-923fb1ee663d",
   "metadata": {},
   "outputs": [
    {
     "name": "stdout",
     "output_type": "stream",
     "text": [
      "LegAngles(cox_angle=96.3401917459099, femur_angle=29.949491583397638, tibia_angle=62.28977795074845)\n",
      "(x=1.000 y=0.200 z=-1.800) (x=1.000 y=0.200 z=-1.800)\n",
      "Good!\n"
     ]
    }
   ],
   "source": [
    "\n",
    "x,y,z=1,0.2,-1.8\n",
    "leg1 = QuadLeg(1, Point(), 2, 2, ServoIds(1,2,3))\n",
    "pos1 = Point(x, y, z)\n",
    "ang1 = leg1.get_angles(pos1)\n",
    "print(ang1)\n",
    "rpos1 = leg1.get_toe_pos(ang1)\n",
    "print(pos1, rpos1)\n",
    "print(\"Good!\" if pos1==rpos1 else \"Bad :-(\")"
   ]
  },
  {
   "cell_type": "code",
   "execution_count": null,
   "id": "3f79ebaa-0270-4df6-b52b-cc1b243ae687",
   "metadata": {},
   "outputs": [],
   "source": []
  },
  {
   "cell_type": "code",
   "execution_count": 3,
   "id": "3c138813-1ccf-415a-b58b-938e2cc0898d",
   "metadata": {},
   "outputs": [
    {
     "name": "stdout",
     "output_type": "stream",
     "text": [
      "All tests passed!\n"
     ]
    }
   ],
   "source": [
    "good = True\n",
    "for pos in [(0.3, 0, -1.8),\n",
    "            (0.4, 0, -1.8),\n",
    "            (0.6, 0, -1.7),\n",
    "            (0.6, 0, -1.6),\n",
    "           (0.8, 0, -1.6),\n",
    "           (0.9, 0, -1.5),\n",
    "           (1, 0, -1.8),\n",
    "           (1, 0, -2),\n",
    "           (1, 0, -2.3),\n",
    "           (1, 0, -3),\n",
    "           (1.2, 0, -3.6),\n",
    "           (1, 0.5, -3),\n",
    "            (1, -0.5, -3),\n",
    "           (1, 1, -3),\n",
    "           (1, -1, -3),\n",
    "           (0, 0.2, -3),\n",
    "           (-1, 0.4, -3.2)]:\n",
    "    p = Point(*pos)\n",
    "    ang1 = leg1.get_angles(p)\n",
    "    rp = leg1.get_toe_pos(ang1)\n",
    "    if rp!=p:\n",
    "        print(\"Bad!: \", p, rp, '\\n', ang1)\n",
    "        good = False\n",
    "if good:\n",
    "    print(\"All tests passed!\")"
   ]
  },
  {
   "cell_type": "code",
   "execution_count": 4,
   "id": "d454649a-d0cd-4f72-a30d-a31498f0a705",
   "metadata": {},
   "outputs": [
    {
     "name": "stdout",
     "output_type": "stream",
     "text": [
      "LegAngles(cox_angle=96.3401917459099, femur_angle=29.949491583397638, tibia_angle=62.28977795074845)\n",
      "[ 1.   0.2 -1.8  1. ] [ 1.   0.2 -1.8  1. ]\n",
      "True True True\n",
      "1.1102230246251565e-16\n",
      "Good!\n"
     ]
    }
   ],
   "source": [
    "x,y,z=0, 0.2, -3\n",
    "leg1 = QuadLeg(1, Point(), 2, 2, ServoIds(1,2,3))\n",
    "ang1 = leg1.get_angles(pos1)\n",
    "print(ang1)\n",
    "rpos1 = leg1.get_toe_pos(ang1)\n",
    "print(pos1.p, rpos1.p)\n",
    "print(equal( pos1.p[0], rpos1.p[0]), equal(pos1.p[1], rpos1.p[1]), equal(pos1.p[2], rpos1.p[2])) \n",
    "print(abs(pos1.p[0]- rpos1.p[0]))\n",
    "print(\"Good!\" if pos1==rpos1 else \"Bad :-(\")"
   ]
  },
  {
   "cell_type": "code",
   "execution_count": 5,
   "id": "ad869085-f7a6-449b-9225-d7c276d76a30",
   "metadata": {},
   "outputs": [
    {
     "name": "stdout",
     "output_type": "stream",
     "text": [
      "Goto: (x=0.000 y=0.000 z=-3.000)\n",
      "Goto: (x=0.000 y=0.000 z=-2.700)\n",
      "(ServoAction(channel=1, angle=90.0), ServoAction(channel=2, angle=47.54584979559906), ServoAction(channel=3, angle=84.90830040880188))\n",
      "Goto: (x=0.500 y=0.000 z=-2.300)\n",
      "(ServoAction(channel=1, angle=90.0), ServoAction(channel=2, angle=41.68954291943123), ServoAction(channel=3, angle=72.09136670535273))\n",
      "Goto: (x=1.000 y=0.000 z=-2.700)\n",
      "(ServoAction(channel=1, angle=90.0), ServoAction(channel=2, angle=23.63814959281356), ServoAction(channel=3, angle=92.07742715504702))\n",
      "Goto: (x=1.000 y=0.000 z=-3.000)\n",
      "(ServoAction(channel=1, angle=90.0), ServoAction(channel=2, angle=19.32629508411302), ServoAction(channel=3, angle=104.47751218592994))\n"
     ]
    }
   ],
   "source": [
    "target = Point(1, 0, -3)\n",
    "leg1.goto(Point(0, 0, -3))\n",
    "print(leg1.step(StepPhase.clear, target))\n",
    "print(leg1.step(StepPhase.lift, target))\n",
    "print(leg1.step(StepPhase.drop, target))\n",
    "print(leg1.step(StepPhase.pose, target))\n"
   ]
  },
  {
   "cell_type": "code",
   "execution_count": null,
   "id": "7bb9ae0e-4478-4249-a0b8-6263fe7d8101",
   "metadata": {},
   "outputs": [],
   "source": []
  }
 ],
 "metadata": {
  "kernelspec": {
   "display_name": "Python 3 (ipykernel)",
   "language": "python",
   "name": "python3"
  },
  "language_info": {
   "codemirror_mode": {
    "name": "ipython",
    "version": 3
   },
   "file_extension": ".py",
   "mimetype": "text/x-python",
   "name": "python",
   "nbconvert_exporter": "python",
   "pygments_lexer": "ipython3",
   "version": "3.12.2"
  }
 },
 "nbformat": 4,
 "nbformat_minor": 5
}
