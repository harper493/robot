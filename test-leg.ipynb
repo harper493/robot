{
 "cells": [
  {
   "cell_type": "code",
   "execution_count": 1,
   "id": "441806b4-43b3-418d-8705-2e349e0526a2",
   "metadata": {},
   "outputs": [],
   "source": [
    "from math import *\n",
    "from leg import *"
   ]
  },
  {
   "cell_type": "code",
   "execution_count": 2,
   "id": "937966c6-a641-492a-89af-923fb1ee663d",
   "metadata": {},
   "outputs": [
    {
     "name": "stdout",
     "output_type": "stream",
     "text": [
      "LegAngles(cox_angle=6.34019174590991, femur_angle=29.949491583397638, tibia_angle=62.28977795074845)\n",
      "(x=1.000 y=0.200 z=-1.800) (x=1.000 y=0.200 z=-1.800)\n",
      "Good!\n"
     ]
    }
   ],
   "source": [
    "\n",
    "x,y,z=1,0.2,-1.8\n",
    "leg1 = QuadLeg(1, Point(), 2, 2)\n",
    "pos1 = Point(x, y, z)\n",
    "ang1 = leg1.get_angles(pos1)\n",
    "print(ang1)\n",
    "rpos1 = leg1.get_toe_pos(ang1)\n",
    "print(pos1, rpos1)\n",
    "print(\"Good!\" if pos1==rpos1 else \"Bad :-(\")"
   ]
  },
  {
   "cell_type": "code",
   "execution_count": 3,
   "id": "3f79ebaa-0270-4df6-b52b-cc1b243ae687",
   "metadata": {},
   "outputs": [],
   "source": [
    "from __future__ import annotations\n",
    "from geometry import *\n",
    "import numpy as np\n",
    "from typing import Self\n",
    "from dtrig import *\n",
    "from math import *\n",
    "from dataclasses import dataclass\n",
    "\n",
    "@dataclass\n",
    "class LegAngles:\n",
    "    cox_angle: float = 0.0\n",
    "    femur_angle: float = 0.0\n",
    "    tibia_angle: float = 0.0\n",
    "\n",
    "class Leg:\n",
    "\n",
    "    def __init__(self, _number: int, _position: Point, _femur: float, _tibia: float):\n",
    "        self.number, self.position, self.femur, self.tibia = _number, _position, _femur, _tibia\n",
    "\n",
    "    def get_femur_tibia(self, toe_pos: Point2D) -> LegAngles:\n",
    "        result = LegAngles()\n",
    "        h = toe_pos.length()\n",
    "        alpha = toe_pos.angle()\n",
    "        beta = cosine_rule(h, self.femur, self.tibia)\n",
    "        result.femur_angle = beta - alpha\n",
    "        result.tibia_angle = cosine_rule(self.tibia, self.femur, h)\n",
    "        return result\n",
    "\n",
    "    def get_toe_pos_2D(self, angles: LegAngles) -> Point2D:\n",
    "        knee_pos = Point2D.from_polar(self.femur, angles.femur_angle).reflect_y()\n",
    "        alpha = angles.tibia_angle - (90 - angles.femur_angle)\n",
    "        toe_offset = Point2D.from_polar(self.tibia, 90 - alpha)\n",
    "        return (knee_pos + toe_offset).reflect_x()\n",
    "\n",
    "class QuadLeg(Leg):\n",
    "\n",
    "    def __init__(self, _number: int, _position: Point, _femur: float, _tibia: float):\n",
    "        super(QuadLeg, self).__init__(_number, _position, _femur, _tibia)\n",
    "\n",
    "    def get_angles(self, toe_pos: Point) -> LegAngles:\n",
    "        cox = datan2(toe_pos.y(), -toe_pos.z())\n",
    "        leg_geom = Point2D(toe_pos.x(), -toe_pos.z() / dcos(cox))\n",
    "        result = self.get_femur_tibia(leg_geom)\n",
    "        result.cox_angle = cox\n",
    "        return result\n",
    "\n",
    "    def get_toe_pos(self, angles: LegAngles) -> Point:\n",
    "        t1 = self.get_toe_pos_2D(angles)\n",
    "        h = t1.y()\n",
    "        return Point(t1.x(), -h * dsin(angles.cox_angle), h * dcos(angles.cox_angle)) \n",
    "\n"
   ]
  },
  {
   "cell_type": "code",
   "execution_count": 4,
   "id": "3c138813-1ccf-415a-b58b-938e2cc0898d",
   "metadata": {},
   "outputs": [
    {
     "name": "stdout",
     "output_type": "stream",
     "text": [
      "All tests passed!\n"
     ]
    }
   ],
   "source": [
    "good = True\n",
    "for pos in [(0.3, 0, -1.8),\n",
    "            (0.4, 0, -1.8),\n",
    "            (0.6, 0, -1.7),\n",
    "            (0.6, 0, -1.6),\n",
    "           (0.8, 0, -1.6),\n",
    "           (0.9, 0, -1.5),\n",
    "           (1, 0, -1.8),\n",
    "           (1, 0, -2),\n",
    "           (1, 0, -2.3),\n",
    "           (1, 0, -3),\n",
    "           (1.2, 0, -3.6),\n",
    "           (1, 0.5, -3),\n",
    "            (1, -0.5, -3),\n",
    "           (1, 1, -3),\n",
    "           (1, -1, -3),\n",
    "           (0, 0.2, -3),\n",
    "           (-1, 0.4, -3.2)]:\n",
    "    p = Point(*pos)\n",
    "    ang1 = leg1.get_angles(p)\n",
    "    rp = leg1.get_toe_pos(ang1)\n",
    "    if rp!=p:\n",
    "        print(\"Bad!: \", p, rp, '\\n', ang1)\n",
    "        good = False\n",
    "if good:\n",
    "    print(\"All tests passed!\")"
   ]
  },
  {
   "cell_type": "code",
   "execution_count": 5,
   "id": "d454649a-d0cd-4f72-a30d-a31498f0a705",
   "metadata": {},
   "outputs": [
    {
     "name": "stdout",
     "output_type": "stream",
     "text": [
      "LegAngles(cox_angle=3.8140748342903543, femur_angle=41.26520384179153, tibia_angle=97.46959231641695)\n",
      "[ 0.   0.2 -3.   1. ] [-2.22044605e-16  2.00000000e-01 -3.00000000e+00  1.00000000e+00]\n",
      "True True True\n",
      "2.220446049250313e-16\n",
      "Good!\n"
     ]
    }
   ],
   "source": [
    "x,y,z=0, 0.2, -3\n",
    "leg1 = QuadLeg(1, Point(), 2, 2)\n",
    "pos1 = Point(x, y, z)\n",
    "ang1 = leg1.get_angles(pos1)\n",
    "print(ang1)\n",
    "rpos1 = leg1.get_toe_pos(ang1)\n",
    "print(pos1.p, rpos1.p)\n",
    "print(equal( pos1.p[0], rpos1.p[0]), equal(pos1.p[1], rpos1.p[1]), equal(pos1.p[2], rpos1.p[2])) \n",
    "print(abs(pos1.p[0]- rpos1.p[0]))\n",
    "print(\"Good!\" if pos1==rpos1 else \"Bad :-(\")"
   ]
  },
  {
   "cell_type": "code",
   "execution_count": null,
   "id": "ad869085-f7a6-449b-9225-d7c276d76a30",
   "metadata": {},
   "outputs": [],
   "source": []
  },
  {
   "cell_type": "code",
   "execution_count": null,
   "id": "2710101e-1a9c-41eb-a149-fef36ac94932",
   "metadata": {},
   "outputs": [],
   "source": []
  }
 ],
 "metadata": {
  "kernelspec": {
   "display_name": "Python 3 (ipykernel)",
   "language": "python",
   "name": "python3"
  },
  "language_info": {
   "codemirror_mode": {
    "name": "ipython",
    "version": 3
   },
   "file_extension": ".py",
   "mimetype": "text/x-python",
   "name": "python",
   "nbconvert_exporter": "python",
   "pygments_lexer": "ipython3",
   "version": "3.12.2"
  }
 },
 "nbformat": 4,
 "nbformat_minor": 5
}
