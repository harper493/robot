{
 "cells": [
  {
   "cell_type": "code",
   "execution_count": 1,
   "id": "3dd013f5-7a25-4a33-87e4-4a634b618f14",
   "metadata": {},
   "outputs": [],
   "source": [
    "from math import *\n",
    "from leg import *\n",
    "from body import *\n",
    "from control import *\n",
    "from geometry import *\n",
    "import numpy as np"
   ]
  },
  {
   "cell_type": "code",
   "execution_count": 2,
   "id": "989e838a-e44c-412a-bacc-f475deccda67",
   "metadata": {},
   "outputs": [
    {
     "name": "stdout",
     "output_type": "stream",
     "text": [
      "Done!\n"
     ]
    }
   ],
   "source": [
    "b = Body()\n",
    "c = Control(b)\n",
    "c.build_quad()\n",
    "c.set_named_posture('stand')\n",
    "c.walk(8, 45)\n",
    "print('Done!')"
   ]
  },
  {
   "cell_type": "raw",
   "id": "6ced45be-bce1-4c56-923e-b647f03a7fad",
   "metadata": {},
   "source": []
  },
  {
   "cell_type": "code",
   "execution_count": 3,
   "id": "c1a86d1a-a7be-4e13-87bd-946fc33a0823",
   "metadata": {},
   "outputs": [
    {
     "name": "stdout",
     "output_type": "stream",
     "text": [
      "[[ 0.94  -0.342  0.     0.   ]\n",
      " [ 0.342  0.94   0.     0.   ]\n",
      " [ 0.     0.     1.     0.   ]\n",
      " [ 0.     0.     0.     1.   ]]\n",
      "fl (x=85.000 y=50.000 z=0.000) (x=11.975 y=-32.087 z=0.000)\n",
      "fr (x=85.000 y=-50.000 z=0.000) (x=-22.227 y=-26.056 z=0.000)\n",
      "rl (x=-90.000 y=50.000 z=0.000) (x=22.529 y=27.766 z=0.000)\n",
      "rr (x=-90.000 y=-50.000 z=0.000) (x=-11.673 y=33.797 z=0.000)\n"
     ]
    }
   ],
   "source": [
    "t1 = Transform(zrot=20)\n",
    "print(t1)\n",
    "for ll in b.legs.values():\n",
    "    print(ll.which, ll.location, ll.location@t1 - ll.location)"
   ]
  },
  {
   "cell_type": "code",
   "execution_count": 4,
   "id": "bc42a47c-087a-4c80-b1dc-32f705a25653",
   "metadata": {},
   "outputs": [
    {
     "name": "stdout",
     "output_type": "stream",
     "text": [
      "fl (x=85.000 y=50.000 z=0.000) (x=21.372 y=-35.507 z=0.000)\n",
      "fr (x=85.000 y=-50.000 z=0.000) (x=-12.830 y=-29.477 z=0.000)\n",
      "rl (x=-90.000 y=50.000 z=0.000) (x=31.926 y=24.346 z=0.000)\n",
      "rr (x=-90.000 y=-50.000 z=0.000) (x=-2.276 y=30.377 z=0.000)\n"
     ]
    }
   ],
   "source": [
    "t2 = Transform(x=10)\n",
    "for ll in b.legs.values():\n",
    "    print(ll.which, ll.location, ll.location@(t2@t1) - ll.location)"
   ]
  },
  {
   "cell_type": "code",
   "execution_count": 5,
   "id": "322c10af-0175-4982-bc6f-e1e86d0da8c1",
   "metadata": {},
   "outputs": [
    {
     "name": "stdout",
     "output_type": "stream",
     "text": [
      "fl (x=85.000 y=50.000 z=0.000) (x=21.975 y=-32.087 z=0.000)\n",
      "fr (x=85.000 y=-50.000 z=0.000) (x=-12.227 y=-26.056 z=0.000)\n",
      "rl (x=-90.000 y=50.000 z=0.000) (x=32.529 y=27.766 z=0.000)\n",
      "rr (x=-90.000 y=-50.000 z=0.000) (x=-1.673 y=33.797 z=0.000)\n"
     ]
    }
   ],
   "source": [
    "t2 = Transform(x=10)\n",
    "for ll in b.legs.values():\n",
    "    print(ll.which, ll.location, ll.location@(t1@t2) - ll.location)"
   ]
  },
  {
   "cell_type": "code",
   "execution_count": 6,
   "id": "d3d9bdd6-4aa0-4b16-8e71-6d4eac30c230",
   "metadata": {},
   "outputs": [
    {
     "name": "stdout",
     "output_type": "stream",
     "text": [
      "[[ 0.94  -0.342  0.     0.   ]\n",
      " [ 0.342  0.94   0.     0.   ]\n",
      " [ 0.     0.     1.     0.   ]\n",
      " [10.     0.     0.     1.   ]]\n",
      "[[ 0.94  -0.342  0.     0.   ]\n",
      " [ 0.342  0.94   0.     0.   ]\n",
      " [ 0.     0.     1.     0.   ]\n",
      " [ 9.397 -3.42   0.     1.   ]]\n"
     ]
    }
   ],
   "source": [
    "print(t1@t2)\n",
    "print(t2@t1)\n"
   ]
  },
  {
   "cell_type": "code",
   "execution_count": 7,
   "id": "ef141e30-4767-46a9-979a-dd83d2857955",
   "metadata": {},
   "outputs": [
    {
     "name": "stdout",
     "output_type": "stream",
     "text": [
      "-19.999999999999996\n"
     ]
    }
   ],
   "source": [
    "t3 = t2@t1\n",
    "print(datan2(t3.y(), t3.x()))"
   ]
  },
  {
   "cell_type": "code",
   "execution_count": null,
   "id": "b35ee442-b70a-4179-b2ea-90e14fb53f4c",
   "metadata": {},
   "outputs": [],
   "source": []
  }
 ],
 "metadata": {
  "kernelspec": {
   "display_name": "Python 3 (ipykernel)",
   "language": "python",
   "name": "python3"
  },
  "language_info": {
   "codemirror_mode": {
    "name": "ipython",
    "version": 3
   },
   "file_extension": ".py",
   "mimetype": "text/x-python",
   "name": "python",
   "nbconvert_exporter": "python",
   "pygments_lexer": "ipython3",
   "version": "3.12.2"
  }
 },
 "nbformat": 4,
 "nbformat_minor": 5
}
