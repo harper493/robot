{
 "cells": [
  {
   "cell_type": "code",
   "execution_count": 1,
   "id": "3dd013f5-7a25-4a33-87e4-4a634b618f14",
   "metadata": {},
   "outputs": [],
   "source": [
    "from math import *\n",
    "from leg import *\n",
    "from body import *\n",
    "from control import *\n",
    "from geometry import *\n",
    "import numpy as np\n",
    "from robot import init"
   ]
  },
  {
   "cell_type": "code",
   "execution_count": 2,
   "id": "989e838a-e44c-412a-bacc-f475deccda67",
   "metadata": {},
   "outputs": [
    {
     "name": "stdout",
     "output_type": "stream",
     "text": [
      "Done!\n"
     ]
    }
   ],
   "source": [
    "c = init()\n",
    "print('Done!')"
   ]
  },
  {
   "cell_type": "raw",
   "id": "6ced45be-bce1-4c56-923e-b647f03a7fad",
   "metadata": {},
   "source": []
  },
  {
   "cell_type": "code",
   "execution_count": 3,
   "id": "c1a86d1a-a7be-4e13-87bd-946fc33a0823",
   "metadata": {},
   "outputs": [
    {
     "name": "stdout",
     "output_type": "stream",
     "text": [
      "[[ 0.94  -0.342  0.     0.   ]\n",
      " [ 0.342  0.94   0.     0.   ]\n",
      " [ 0.     0.     1.     0.   ]\n",
      " [ 0.     0.     0.     1.   ]]\n"
     ]
    },
    {
     "ename": "NameError",
     "evalue": "name 'b' is not defined",
     "output_type": "error",
     "traceback": [
      "\u001b[0;31m---------------------------------------------------------------------------\u001b[0m",
      "\u001b[0;31mNameError\u001b[0m                                 Traceback (most recent call last)",
      "Cell \u001b[0;32mIn[3], line 3\u001b[0m\n\u001b[1;32m      1\u001b[0m t1 \u001b[38;5;241m=\u001b[39m Transform(zrot\u001b[38;5;241m=\u001b[39m\u001b[38;5;241m20\u001b[39m)\n\u001b[1;32m      2\u001b[0m \u001b[38;5;28mprint\u001b[39m(t1)\n\u001b[0;32m----> 3\u001b[0m \u001b[38;5;28;01mfor\u001b[39;00m ll \u001b[38;5;129;01min\u001b[39;00m b\u001b[38;5;241m.\u001b[39mlegs\u001b[38;5;241m.\u001b[39mvalues():\n\u001b[1;32m      4\u001b[0m     \u001b[38;5;28mprint\u001b[39m(ll\u001b[38;5;241m.\u001b[39mwhich, ll\u001b[38;5;241m.\u001b[39mlocation, ll\u001b[38;5;241m.\u001b[39mlocation\u001b[38;5;129m@t1\u001b[39m \u001b[38;5;241m-\u001b[39m ll\u001b[38;5;241m.\u001b[39mlocation)\n",
      "\u001b[0;31mNameError\u001b[0m: name 'b' is not defined"
     ]
    }
   ],
   "source": [
    "t1 = Transform(zrot=20)\n",
    "print(t1)\n",
    "for ll in b.legs.values():\n",
    "    print(ll.which, ll.location, ll.location@t1 - ll.location)"
   ]
  },
  {
   "cell_type": "code",
   "execution_count": null,
   "id": "bc42a47c-087a-4c80-b1dc-32f705a25653",
   "metadata": {},
   "outputs": [],
   "source": [
    "t2 = Transform(x=10)\n",
    "for ll in b.legs.values():\n",
    "    print(ll.which, ll.location, ll.location@(t2@t1) - ll.location)"
   ]
  },
  {
   "cell_type": "code",
   "execution_count": null,
   "id": "322c10af-0175-4982-bc6f-e1e86d0da8c1",
   "metadata": {},
   "outputs": [],
   "source": [
    "t2 = Transform(x=10)\n",
    "for ll in b.legs.values():\n",
    "    print(ll.which, ll.location, ll.location@(t1@t2) - ll.location)"
   ]
  },
  {
   "cell_type": "code",
   "execution_count": null,
   "id": "d3d9bdd6-4aa0-4b16-8e71-6d4eac30c230",
   "metadata": {},
   "outputs": [],
   "source": [
    "print(t1@t2)\n",
    "print(t2@t1)\n"
   ]
  },
  {
   "cell_type": "code",
   "execution_count": null,
   "id": "ef141e30-4767-46a9-979a-dd83d2857955",
   "metadata": {},
   "outputs": [],
   "source": [
    "t3 = t2@t1\n",
    "print(datan2(t3.y(), t3.x()))"
   ]
  },
  {
   "cell_type": "code",
   "execution_count": null,
   "id": "b35ee442-b70a-4179-b2ea-90e14fb53f4c",
   "metadata": {},
   "outputs": [],
   "source": []
  }
 ],
 "metadata": {
  "kernelspec": {
   "display_name": "Python 3 (ipykernel)",
   "language": "python",
   "name": "python3"
  },
  "language_info": {
   "codemirror_mode": {
    "name": "ipython",
    "version": 3
   },
   "file_extension": ".py",
   "mimetype": "text/x-python",
   "name": "python",
   "nbconvert_exporter": "python",
   "pygments_lexer": "ipython3",
   "version": "3.12.2"
  }
 },
 "nbformat": 4,
 "nbformat_minor": 5
}
