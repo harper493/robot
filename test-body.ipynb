{
 "cells": [
  {
   "cell_type": "code",
   "execution_count": 1,
   "id": "3dd013f5-7a25-4a33-87e4-4a634b618f14",
   "metadata": {},
   "outputs": [],
   "source": [
    "from math import *\n",
    "from leg import *\n",
    "from body import *\n",
    "from control import *\n",
    "import numpy as np"
   ]
  },
  {
   "cell_type": "code",
   "execution_count": 2,
   "id": "989e838a-e44c-412a-bacc-f475deccda67",
   "metadata": {},
   "outputs": [
    {
     "name": "stdout",
     "output_type": "stream",
     "text": [
      "Done!\n"
     ]
    }
   ],
   "source": [
    "b = Body()\n",
    "c = Control(b)\n",
    "c.build_quad()\n",
    "c.set_named_posture('stand')\n",
    "c.walk(8, 0)\n",
    "print('Done!')"
   ]
  },
  {
   "cell_type": "raw",
   "id": "6ced45be-bce1-4c56-923e-b647f03a7fad",
   "metadata": {},
   "source": []
  }
 ],
 "metadata": {
  "kernelspec": {
   "display_name": "Python 3 (ipykernel)",
   "language": "python",
   "name": "python3"
  },
  "language_info": {
   "codemirror_mode": {
    "name": "ipython",
    "version": 3
   },
   "file_extension": ".py",
   "mimetype": "text/x-python",
   "name": "python",
   "nbconvert_exporter": "python",
   "pygments_lexer": "ipython3",
   "version": "3.12.2"
  }
 },
 "nbformat": 4,
 "nbformat_minor": 5
}
