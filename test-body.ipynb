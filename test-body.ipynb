{
 "cells": [
  {
   "cell_type": "code",
   "execution_count": 1,
   "id": "3dd013f5-7a25-4a33-87e4-4a634b618f14",
   "metadata": {},
   "outputs": [],
   "source": [
    "from math import *\n",
    "from leg import *\n",
    "from body import *\n",
    "from control import *\n",
    "import numpy as np"
   ]
  },
  {
   "cell_type": "code",
   "execution_count": 2,
   "id": "989e838a-e44c-412a-bacc-f475deccda67",
   "metadata": {},
   "outputs": [
    {
     "ename": "PermissionError",
     "evalue": "[Errno 13] Permission denied: '/dev/i2c-1'",
     "output_type": "error",
     "traceback": [
      "\u001b[0;31m---------------------------------------------------------------------------\u001b[0m",
      "\u001b[0;31mPermissionError\u001b[0m                           Traceback (most recent call last)",
      "Cell \u001b[0;32mIn[2], line 3\u001b[0m\n\u001b[1;32m      1\u001b[0m b \u001b[38;5;241m=\u001b[39m Body()\n\u001b[1;32m      2\u001b[0m c \u001b[38;5;241m=\u001b[39m Control(b)\n\u001b[0;32m----> 3\u001b[0m c\u001b[38;5;241m.\u001b[39mbuild_quad()\n\u001b[1;32m      4\u001b[0m c\u001b[38;5;241m.\u001b[39mset_named_posture(\u001b[38;5;124m'\u001b[39m\u001b[38;5;124mstand\u001b[39m\u001b[38;5;124m'\u001b[39m)\n\u001b[1;32m      5\u001b[0m c\u001b[38;5;241m.\u001b[39mwalk(\u001b[38;5;241m8\u001b[39m, \u001b[38;5;241m45\u001b[39m)\n",
      "File \u001b[0;32m/mnt/cc2f6487-e405-4b66-8e8e-faf34337ca27/home/john/robots/robot/control.py:47\u001b[0m, in \u001b[0;36mControl.build_quad\u001b[0;34m(self)\u001b[0m\n\u001b[1;32m     45\u001b[0m             \u001b[38;5;28mself\u001b[39m\u001b[38;5;241m.\u001b[39mbody\u001b[38;5;241m.\u001b[39mset_gait(gname)\n\u001b[1;32m     46\u001b[0m             \u001b[38;5;28mself\u001b[39m\u001b[38;5;241m.\u001b[39mdefault_gait \u001b[38;5;241m=\u001b[39m gname\n\u001b[0;32m---> 47\u001b[0m actions \u001b[38;5;241m=\u001b[39m ServoActionList()\n\u001b[1;32m     48\u001b[0m \u001b[38;5;28;01mfor\u001b[39;00m ll \u001b[38;5;129;01min\u001b[39;00m \u001b[38;5;28mself\u001b[39m\u001b[38;5;241m.\u001b[39mbody\u001b[38;5;241m.\u001b[39mlegs\u001b[38;5;241m.\u001b[39mvalues():\n\u001b[1;32m     49\u001b[0m     ll\u001b[38;5;241m.\u001b[39mgoto(Point(ll\u001b[38;5;241m.\u001b[39mtibia, \u001b[38;5;241m0\u001b[39m, \u001b[38;5;241m-\u001b[39mll\u001b[38;5;241m.\u001b[39mfemur), actions)\n",
      "File \u001b[0;32m/mnt/cc2f6487-e405-4b66-8e8e-faf34337ca27/home/john/robots/robot/servo_action.py:20\u001b[0m, in \u001b[0;36mServoActionList.__init__\u001b[0;34m(self, _max_iter, _speed)\u001b[0m\n\u001b[1;32m     18\u001b[0m \u001b[38;5;28mself\u001b[39m\u001b[38;5;241m.\u001b[39mactions: \u001b[38;5;28mdict\u001b[39m[\u001b[38;5;28mint\u001b[39m,\u001b[38;5;28mfloat\u001b[39m] \u001b[38;5;241m=\u001b[39m OrderedDict()\n\u001b[1;32m     19\u001b[0m \u001b[38;5;28mself\u001b[39m\u001b[38;5;241m.\u001b[39mpositions: \u001b[38;5;28mdict\u001b[39m[\u001b[38;5;28mint\u001b[39m,\u001b[38;5;28mfloat\u001b[39m] \u001b[38;5;241m=\u001b[39m {}\n\u001b[0;32m---> 20\u001b[0m \u001b[38;5;28mself\u001b[39m\u001b[38;5;241m.\u001b[39mmy_servo \u001b[38;5;241m=\u001b[39m Servo()\n",
      "File \u001b[0;32m/mnt/cc2f6487-e405-4b66-8e8e-faf34337ca27/home/john/robots/robot/Servo.py:8\u001b[0m, in \u001b[0;36mServo.__init__\u001b[0;34m(self)\u001b[0m\n\u001b[1;32m      6\u001b[0m \u001b[38;5;28mself\u001b[39m\u001b[38;5;241m.\u001b[39mangleMin\u001b[38;5;241m=\u001b[39m\u001b[38;5;241m18\u001b[39m\n\u001b[1;32m      7\u001b[0m \u001b[38;5;28mself\u001b[39m\u001b[38;5;241m.\u001b[39mangleMax\u001b[38;5;241m=\u001b[39m\u001b[38;5;241m162\u001b[39m\n\u001b[0;32m----> 8\u001b[0m \u001b[38;5;28mself\u001b[39m\u001b[38;5;241m.\u001b[39mpwm \u001b[38;5;241m=\u001b[39m PCA9685(address\u001b[38;5;241m=\u001b[39m\u001b[38;5;241m0x40\u001b[39m, debug\u001b[38;5;241m=\u001b[39m\u001b[38;5;28;01mTrue\u001b[39;00m)   \n\u001b[1;32m      9\u001b[0m \u001b[38;5;28mself\u001b[39m\u001b[38;5;241m.\u001b[39mpwm\u001b[38;5;241m.\u001b[39msetPWMFreq(\u001b[38;5;241m50\u001b[39m)\n",
      "File \u001b[0;32m/mnt/cc2f6487-e405-4b66-8e8e-faf34337ca27/home/john/robots/robot/PCA9685.py:29\u001b[0m, in \u001b[0;36mPCA9685.__init__\u001b[0;34m(self, address, debug)\u001b[0m\n\u001b[1;32m     28\u001b[0m \u001b[38;5;28;01mdef\u001b[39;00m \u001b[38;5;21m__init__\u001b[39m(\u001b[38;5;28mself\u001b[39m, address\u001b[38;5;241m=\u001b[39m\u001b[38;5;241m0x40\u001b[39m, debug\u001b[38;5;241m=\u001b[39m\u001b[38;5;28;01mFalse\u001b[39;00m):\n\u001b[0;32m---> 29\u001b[0m   \u001b[38;5;28mself\u001b[39m\u001b[38;5;241m.\u001b[39mbus \u001b[38;5;241m=\u001b[39m smbus2\u001b[38;5;241m.\u001b[39mSMBus(\u001b[38;5;241m1\u001b[39m)\n\u001b[1;32m     30\u001b[0m   \u001b[38;5;28mself\u001b[39m\u001b[38;5;241m.\u001b[39maddress \u001b[38;5;241m=\u001b[39m address\n\u001b[1;32m     31\u001b[0m   \u001b[38;5;28mself\u001b[39m\u001b[38;5;241m.\u001b[39mdebug \u001b[38;5;241m=\u001b[39m debug\n",
      "File \u001b[0;32m~/anaconda3/lib/python3.12/site-packages/smbus2/smbus2.py:280\u001b[0m, in \u001b[0;36mSMBus.__init__\u001b[0;34m(self, bus, force)\u001b[0m\n\u001b[1;32m    278\u001b[0m \u001b[38;5;28mself\u001b[39m\u001b[38;5;241m.\u001b[39mfuncs \u001b[38;5;241m=\u001b[39m I2cFunc(\u001b[38;5;241m0\u001b[39m)\n\u001b[1;32m    279\u001b[0m \u001b[38;5;28;01mif\u001b[39;00m bus \u001b[38;5;129;01mis\u001b[39;00m \u001b[38;5;129;01mnot\u001b[39;00m \u001b[38;5;28;01mNone\u001b[39;00m:\n\u001b[0;32m--> 280\u001b[0m     \u001b[38;5;28mself\u001b[39m\u001b[38;5;241m.\u001b[39mopen(bus)\n\u001b[1;32m    281\u001b[0m \u001b[38;5;28mself\u001b[39m\u001b[38;5;241m.\u001b[39maddress \u001b[38;5;241m=\u001b[39m \u001b[38;5;28;01mNone\u001b[39;00m\n\u001b[1;32m    282\u001b[0m \u001b[38;5;28mself\u001b[39m\u001b[38;5;241m.\u001b[39mforce \u001b[38;5;241m=\u001b[39m force\n",
      "File \u001b[0;32m~/anaconda3/lib/python3.12/site-packages/smbus2/smbus2.py:310\u001b[0m, in \u001b[0;36mSMBus.open\u001b[0;34m(self, bus)\u001b[0m\n\u001b[1;32m    307\u001b[0m \u001b[38;5;28;01melse\u001b[39;00m:\n\u001b[1;32m    308\u001b[0m     \u001b[38;5;28;01mraise\u001b[39;00m \u001b[38;5;167;01mTypeError\u001b[39;00m(\u001b[38;5;124m\"\u001b[39m\u001b[38;5;124mUnexpected type(bus)=\u001b[39m\u001b[38;5;132;01m{}\u001b[39;00m\u001b[38;5;124m\"\u001b[39m\u001b[38;5;241m.\u001b[39mformat(\u001b[38;5;28mtype\u001b[39m(bus)))\n\u001b[0;32m--> 310\u001b[0m \u001b[38;5;28mself\u001b[39m\u001b[38;5;241m.\u001b[39mfd \u001b[38;5;241m=\u001b[39m os\u001b[38;5;241m.\u001b[39mopen(filepath, os\u001b[38;5;241m.\u001b[39mO_RDWR)\n\u001b[1;32m    311\u001b[0m \u001b[38;5;28mself\u001b[39m\u001b[38;5;241m.\u001b[39mfuncs \u001b[38;5;241m=\u001b[39m \u001b[38;5;28mself\u001b[39m\u001b[38;5;241m.\u001b[39m_get_funcs()\n",
      "\u001b[0;31mPermissionError\u001b[0m: [Errno 13] Permission denied: '/dev/i2c-1'"
     ]
    }
   ],
   "source": [
    "b = Body()\n",
    "c = Control(b)\n",
    "c.build_quad()\n",
    "c.set_named_posture('stand')\n",
    "c.walk(8, 45)\n",
    "print('Done!')"
   ]
  },
  {
   "cell_type": "raw",
   "id": "6ced45be-bce1-4c56-923e-b647f03a7fad",
   "metadata": {},
   "source": []
  }
 ],
 "metadata": {
  "kernelspec": {
   "display_name": "Python 3 (ipykernel)",
   "language": "python",
   "name": "python3"
  },
  "language_info": {
   "codemirror_mode": {
    "name": "ipython",
    "version": 3
   },
   "file_extension": ".py",
   "mimetype": "text/x-python",
   "name": "python",
   "nbconvert_exporter": "python",
   "pygments_lexer": "ipython3",
   "version": "3.12.2"
  }
 },
 "nbformat": 4,
 "nbformat_minor": 5
}
