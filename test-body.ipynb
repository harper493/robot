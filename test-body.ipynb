{
 "cells": [
  {
   "cell_type": "code",
   "execution_count": 1,
   "id": "3dd013f5-7a25-4a33-87e4-4a634b618f14",
   "metadata": {},
   "outputs": [],
   "source": [
    "from math import *\n",
    "from leg import *\n",
    "from body import *\n",
    "from control import *\n",
    "import numpy as np"
   ]
  },
  {
   "cell_type": "code",
   "execution_count": 2,
   "id": "989e838a-e44c-412a-bacc-f475deccda67",
   "metadata": {},
   "outputs": [
    {
     "name": "stderr",
     "output_type": "stream",
     "text": [
      "INFO: Logger initialised\n"
     ]
    }
   ],
   "source": [
    "b = Body()\n",
    "c = Control(b)\n",
    "c.build_quad()"
   ]
  },
  {
   "cell_type": "code",
   "execution_count": null,
   "id": "ddf03131-2008-48ec-b942-f9f23cdd8c80",
   "metadata": {},
   "outputs": [],
   "source": []
  }
 ],
 "metadata": {
  "kernelspec": {
   "display_name": "Python 3 (ipykernel)",
   "language": "python",
   "name": "python3"
  },
  "language_info": {
   "codemirror_mode": {
    "name": "ipython",
    "version": 3
   },
   "file_extension": ".py",
   "mimetype": "text/x-python",
   "name": "python",
   "nbconvert_exporter": "python",
   "pygments_lexer": "ipython3",
   "version": "3.12.2"
  }
 },
 "nbformat": 4,
 "nbformat_minor": 5
}
