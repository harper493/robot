{
 "cells": [
  {
   "cell_type": "code",
   "execution_count": 1,
   "id": "72ba8206-7e2b-4645-bab3-5d3b16cbe13d",
   "metadata": {},
   "outputs": [],
   "source": [
    "from robot import init\n",
    "from command import CommandInterpreter\n",
    "from control import Control\n",
    "from body import Body"
   ]
  },
  {
   "cell_type": "code",
   "execution_count": 2,
   "id": "cce133e7-f447-4833-8c87-680eca9d4bd3",
   "metadata": {},
   "outputs": [
    {
     "ename": "NameError",
     "evalue": "name 'the_params' is not defined",
     "output_type": "error",
     "traceback": [
      "\u001b[0;31m---------------------------------------------------------------------------\u001b[0m",
      "\u001b[0;31mNameError\u001b[0m                                 Traceback (most recent call last)",
      "Cell \u001b[0;32mIn[2], line 1\u001b[0m\n\u001b[0;32m----> 1\u001b[0m b \u001b[38;5;241m=\u001b[39m Body()\n\u001b[1;32m      2\u001b[0m cc \u001b[38;5;241m=\u001b[39m Control(b)\n\u001b[1;32m      3\u001b[0m cc\u001b[38;5;241m.\u001b[39mbuild_quad()\n",
      "File \u001b[0;32m/mnt/cc2f6487-e405-4b66-8e8e-faf34337ca27/home/john/robots/robot/body.py:35\u001b[0m, in \u001b[0;36mBody.__init__\u001b[0;34m(self, height)\u001b[0m\n\u001b[1;32m     33\u001b[0m \u001b[38;5;28mself\u001b[39m\u001b[38;5;241m.\u001b[39mcur_gait: Gait_type\n\u001b[1;32m     34\u001b[0m \u001b[38;5;28mself\u001b[39m\u001b[38;5;241m.\u001b[39mstep_iter \u001b[38;5;241m=\u001b[39m \u001b[38;5;28;01mNone\u001b[39;00m\n\u001b[0;32m---> 35\u001b[0m \u001b[38;5;28mself\u001b[39m\u001b[38;5;241m.\u001b[39mheight: \u001b[38;5;28mfloat\u001b[39m \u001b[38;5;241m=\u001b[39m Params\u001b[38;5;241m.\u001b[39mget(\u001b[38;5;124m'\u001b[39m\u001b[38;5;124mdefault_height\u001b[39m\u001b[38;5;124m'\u001b[39m)\n\u001b[1;32m     36\u001b[0m \u001b[38;5;28mself\u001b[39m\u001b[38;5;241m.\u001b[39mprev_stride \u001b[38;5;241m=\u001b[39m \u001b[38;5;241m0.0\u001b[39m\n",
      "File \u001b[0;32m/mnt/cc2f6487-e405-4b66-8e8e-faf34337ca27/home/john/robots/robot/params.py:102\u001b[0m, in \u001b[0;36mParams.get\u001b[0;34m(pname)\u001b[0m\n\u001b[1;32m    100\u001b[0m \u001b[38;5;129m@staticmethod\u001b[39m\n\u001b[1;32m    101\u001b[0m \u001b[38;5;28;01mdef\u001b[39;00m \u001b[38;5;21mget\u001b[39m(pname: \u001b[38;5;28mstr\u001b[39m) \u001b[38;5;241m-\u001b[39m\u001b[38;5;241m>\u001b[39m \u001b[38;5;28mfloat\u001b[39m:\n\u001b[0;32m--> 102\u001b[0m     \u001b[38;5;28;01mreturn\u001b[39;00m the_params\u001b[38;5;241m.\u001b[39mget(pname)\n",
      "\u001b[0;31mNameError\u001b[0m: name 'the_params' is not defined"
     ]
    }
   ],
   "source": [
    "b = Body()\n",
    "cc = init()\n",
    "c=CommandInterpreter(cc)"
   ]
  },
  {
   "cell_type": "code",
   "execution_count": null,
   "id": "5f5cb180-b413-42c8-8046-12fb7783dba4",
   "metadata": {},
   "outputs": [],
   "source": [
    "c.execute('help')\n",
    "c.execute('hei')"
   ]
  },
  {
   "cell_type": "code",
   "execution_count": null,
   "id": "8a2ef45b-15a7-4b87-b41b-d2ed6ca83f92",
   "metadata": {},
   "outputs": [],
   "source": [
    "c.execute('post stand')"
   ]
  },
  {
   "cell_type": "code",
   "execution_count": null,
   "id": "e49af751-738b-4395-8135-7b74924bf789",
   "metadata": {},
   "outputs": [],
   "source": [
    "c.execute('post foo')"
   ]
  },
  {
   "cell_type": "code",
   "execution_count": null,
   "id": "d03f4634-5b13-4e90-be48-39638f275800",
   "metadata": {},
   "outputs": [],
   "source": [
    "c.execute('foo')"
   ]
  },
  {
   "cell_type": "code",
   "execution_count": null,
   "id": "34269815-b2b8-468b-a4bf-2139a6b976e9",
   "metadata": {},
   "outputs": [],
   "source": [
    "c.execute('qu')"
   ]
  },
  {
   "cell_type": "code",
   "execution_count": null,
   "id": "1384be2f-4e6d-43bb-92ae-927f2e02609c",
   "metadata": {},
   "outputs": [],
   "source": []
  }
 ],
 "metadata": {
  "kernelspec": {
   "display_name": "Python 3 (ipykernel)",
   "language": "python",
   "name": "python3"
  },
  "language_info": {
   "codemirror_mode": {
    "name": "ipython",
    "version": 3
   },
   "file_extension": ".py",
   "mimetype": "text/x-python",
   "name": "python",
   "nbconvert_exporter": "python",
   "pygments_lexer": "ipython3",
   "version": "3.12.2"
  }
 },
 "nbformat": 4,
 "nbformat_minor": 5
}
