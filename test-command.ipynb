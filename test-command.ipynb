{
 "cells": [
  {
   "cell_type": "code",
   "execution_count": 1,
   "id": "72ba8206-7e2b-4645-bab3-5d3b16cbe13d",
   "metadata": {},
   "outputs": [],
   "source": [
    "from command import CommandInterpreter\n",
    "from control import Control\n",
    "from body import Body"
   ]
  },
  {
   "cell_type": "code",
   "execution_count": 2,
   "id": "cce133e7-f447-4833-8c87-680eca9d4bd3",
   "metadata": {},
   "outputs": [],
   "source": [
    "b = Body()\n",
    "cc = Control(b)\n",
    "cc.build_quad()\n",
    "c=CommandInterpreter(cc)"
   ]
  },
  {
   "cell_type": "code",
   "execution_count": 3,
   "id": "5f5cb180-b413-42c8-8046-12fb7783dba4",
   "metadata": {},
   "outputs": [
    {
     "name": "stdout",
     "output_type": "stream",
     "text": [
      "height   set height\n",
      "help     get help\n",
      "leg      set leg position explicitly\n",
      "posture  set static posture\n",
      "quit     terminate program\n",
      "servo    modify servo position explicitly\n",
      "set      modify parameter\n",
      "show     show something\n",
      "turn     walk while turning\n",
      "walk     walk in straight line\n",
      "not yet\n"
     ]
    }
   ],
   "source": [
    "c.execute('help')\n",
    "c.execute('hei')"
   ]
  },
  {
   "cell_type": "code",
   "execution_count": 4,
   "id": "8a2ef45b-15a7-4b87-b41b-d2ed6ca83f92",
   "metadata": {},
   "outputs": [],
   "source": [
    "c.execute('post stand')"
   ]
  },
  {
   "cell_type": "code",
   "execution_count": 5,
   "id": "e49af751-738b-4395-8135-7b74924bf789",
   "metadata": {},
   "outputs": [
    {
     "ename": "KeyError",
     "evalue": "'foo'",
     "output_type": "error",
     "traceback": [
      "\u001b[0;31m---------------------------------------------------------------------------\u001b[0m",
      "\u001b[0;31mKeyError\u001b[0m                                  Traceback (most recent call last)",
      "Cell \u001b[0;32mIn[5], line 1\u001b[0m\n\u001b[0;32m----> 1\u001b[0m c\u001b[38;5;241m.\u001b[39mexecute(\u001b[38;5;124m'\u001b[39m\u001b[38;5;124mpost foo\u001b[39m\u001b[38;5;124m'\u001b[39m)\n",
      "File \u001b[0;32m/mnt/cc2f6487-e405-4b66-8e8e-faf34337ca27/home/john/robots/robot/command.py:53\u001b[0m, in \u001b[0;36mCommandInterpreter.execute\u001b[0;34m(self, line)\u001b[0m\n\u001b[1;32m     51\u001b[0m words \u001b[38;5;241m=\u001b[39m line\u001b[38;5;241m.\u001b[39msplit()\n\u001b[1;32m     52\u001b[0m cmdinfo, fn \u001b[38;5;241m=\u001b[39m \u001b[38;5;28mself\u001b[39m\u001b[38;5;241m.\u001b[39mfind_keyword(CommandInterpreter\u001b[38;5;241m.\u001b[39mthe_commands, words[\u001b[38;5;241m0\u001b[39m], \u001b[38;5;124m'\u001b[39m\u001b[38;5;124mdo_\u001b[39m\u001b[38;5;124m'\u001b[39m)\n\u001b[0;32m---> 53\u001b[0m (fn)(\u001b[38;5;28mself\u001b[39m, words)\n",
      "File \u001b[0;32m/mnt/cc2f6487-e405-4b66-8e8e-faf34337ca27/home/john/robots/robot/command.py:68\u001b[0m, in \u001b[0;36mCommandInterpreter.do_posture\u001b[0;34m(self, words)\u001b[0m\n\u001b[1;32m     67\u001b[0m \u001b[38;5;28;01mdef\u001b[39;00m \u001b[38;5;21mdo_posture\u001b[39m(\u001b[38;5;28mself\u001b[39m, words: \u001b[38;5;28mlist\u001b[39m[\u001b[38;5;28mstr\u001b[39m]) \u001b[38;5;241m-\u001b[39m\u001b[38;5;241m>\u001b[39m \u001b[38;5;28;01mNone\u001b[39;00m:\n\u001b[0;32m---> 68\u001b[0m     \u001b[38;5;28mself\u001b[39m\u001b[38;5;241m.\u001b[39mcontrol\u001b[38;5;241m.\u001b[39mset_named_posture(words[\u001b[38;5;241m1\u001b[39m])\n",
      "File \u001b[0;32m/mnt/cc2f6487-e405-4b66-8e8e-faf34337ca27/home/john/robots/robot/control.py:26\u001b[0m, in \u001b[0;36mControl.set_named_posture\u001b[0;34m(self, pname)\u001b[0m\n\u001b[1;32m     25\u001b[0m \u001b[38;5;28;01mdef\u001b[39;00m \u001b[38;5;21mset_named_posture\u001b[39m(\u001b[38;5;28mself\u001b[39m, pname: \u001b[38;5;28mstr\u001b[39m) \u001b[38;5;241m-\u001b[39m\u001b[38;5;241m>\u001b[39m \u001b[38;5;28;01mNone\u001b[39;00m:\n\u001b[0;32m---> 26\u001b[0m     \u001b[38;5;28mself\u001b[39m\u001b[38;5;241m.\u001b[39mbody\u001b[38;5;241m.\u001b[39mset_named_posture(pname)\n",
      "File \u001b[0;32m/mnt/cc2f6487-e405-4b66-8e8e-faf34337ca27/home/john/robots/robot/body.py:61\u001b[0m, in \u001b[0;36mBody.set_named_posture\u001b[0;34m(self, pname)\u001b[0m\n\u001b[1;32m     60\u001b[0m \u001b[38;5;28;01mdef\u001b[39;00m \u001b[38;5;21mset_named_posture\u001b[39m(\u001b[38;5;28mself\u001b[39m, pname: \u001b[38;5;28mstr\u001b[39m) \u001b[38;5;241m-\u001b[39m\u001b[38;5;241m>\u001b[39m \u001b[38;5;28;01mNone\u001b[39;00m:\n\u001b[0;32m---> 61\u001b[0m     \u001b[38;5;28mself\u001b[39m\u001b[38;5;241m.\u001b[39mposture \u001b[38;5;241m=\u001b[39m named_postures[pname]\n\u001b[1;32m     62\u001b[0m     actions \u001b[38;5;241m=\u001b[39m ServoActionList()\n\u001b[1;32m     63\u001b[0m     \u001b[38;5;28;01mfor\u001b[39;00m ll \u001b[38;5;129;01min\u001b[39;00m \u001b[38;5;28mself\u001b[39m\u001b[38;5;241m.\u001b[39mlegs\u001b[38;5;241m.\u001b[39mvalues():\n",
      "\u001b[0;31mKeyError\u001b[0m: 'foo'"
     ]
    }
   ],
   "source": [
    "c.execute('post foo')"
   ]
  },
  {
   "cell_type": "code",
   "execution_count": 6,
   "id": "d03f4634-5b13-4e90-be48-39638f275800",
   "metadata": {},
   "outputs": [
    {
     "ename": "ValueError",
     "evalue": "",
     "output_type": "error",
     "traceback": [
      "\u001b[0;31m---------------------------------------------------------------------------\u001b[0m",
      "\u001b[0;31mValueError\u001b[0m                                Traceback (most recent call last)",
      "Cell \u001b[0;32mIn[6], line 1\u001b[0m\n\u001b[0;32m----> 1\u001b[0m c\u001b[38;5;241m.\u001b[39mexecute(\u001b[38;5;124m'\u001b[39m\u001b[38;5;124mfoo\u001b[39m\u001b[38;5;124m'\u001b[39m)\n",
      "File \u001b[0;32m/mnt/cc2f6487-e405-4b66-8e8e-faf34337ca27/home/john/robots/robot/command.py:52\u001b[0m, in \u001b[0;36mCommandInterpreter.execute\u001b[0;34m(self, line)\u001b[0m\n\u001b[1;32m     50\u001b[0m \u001b[38;5;28;01mdef\u001b[39;00m \u001b[38;5;21mexecute\u001b[39m(\u001b[38;5;28mself\u001b[39m, line: \u001b[38;5;28mstr\u001b[39m) \u001b[38;5;241m-\u001b[39m\u001b[38;5;241m>\u001b[39m \u001b[38;5;28;01mNone\u001b[39;00m:\n\u001b[1;32m     51\u001b[0m     words \u001b[38;5;241m=\u001b[39m line\u001b[38;5;241m.\u001b[39msplit()\n\u001b[0;32m---> 52\u001b[0m     cmdinfo, fn \u001b[38;5;241m=\u001b[39m \u001b[38;5;28mself\u001b[39m\u001b[38;5;241m.\u001b[39mfind_keyword(CommandInterpreter\u001b[38;5;241m.\u001b[39mthe_commands, words[\u001b[38;5;241m0\u001b[39m], \u001b[38;5;124m'\u001b[39m\u001b[38;5;124mdo_\u001b[39m\u001b[38;5;124m'\u001b[39m)\n\u001b[1;32m     53\u001b[0m     (fn)(\u001b[38;5;28mself\u001b[39m, words)\n",
      "File \u001b[0;32m/mnt/cc2f6487-e405-4b66-8e8e-faf34337ca27/home/john/robots/robot/command.py:48\u001b[0m, in \u001b[0;36mCommandInterpreter.find_keyword\u001b[0;34m(self, commands, cmd, fn_prefix)\u001b[0m\n\u001b[1;32m     46\u001b[0m         \u001b[38;5;28;01mreturn\u001b[39;00m (c, \u001b[38;5;28mgetattr\u001b[39m(CommandInterpreter, fn_prefix\u001b[38;5;241m+\u001b[39mc\u001b[38;5;241m.\u001b[39mname))\n\u001b[1;32m     47\u001b[0m \u001b[38;5;28;01melse\u001b[39;00m:\n\u001b[0;32m---> 48\u001b[0m     \u001b[38;5;28;01mraise\u001b[39;00m \u001b[38;5;167;01mValueError\u001b[39;00m()\n",
      "\u001b[0;31mValueError\u001b[0m: "
     ]
    }
   ],
   "source": [
    "c.execute('foo')"
   ]
  },
  {
   "cell_type": "code",
   "execution_count": 7,
   "id": "34269815-b2b8-468b-a4bf-2139a6b976e9",
   "metadata": {},
   "outputs": [
    {
     "ename": "EOFError",
     "evalue": "",
     "output_type": "error",
     "traceback": [
      "\u001b[0;31m---------------------------------------------------------------------------\u001b[0m",
      "\u001b[0;31mEOFError\u001b[0m                                  Traceback (most recent call last)",
      "Cell \u001b[0;32mIn[7], line 1\u001b[0m\n\u001b[0;32m----> 1\u001b[0m c\u001b[38;5;241m.\u001b[39mexecute(\u001b[38;5;124m'\u001b[39m\u001b[38;5;124mqu\u001b[39m\u001b[38;5;124m'\u001b[39m)\n",
      "File \u001b[0;32m/mnt/cc2f6487-e405-4b66-8e8e-faf34337ca27/home/john/robots/robot/command.py:53\u001b[0m, in \u001b[0;36mCommandInterpreter.execute\u001b[0;34m(self, line)\u001b[0m\n\u001b[1;32m     51\u001b[0m words \u001b[38;5;241m=\u001b[39m line\u001b[38;5;241m.\u001b[39msplit()\n\u001b[1;32m     52\u001b[0m cmdinfo, fn \u001b[38;5;241m=\u001b[39m \u001b[38;5;28mself\u001b[39m\u001b[38;5;241m.\u001b[39mfind_keyword(CommandInterpreter\u001b[38;5;241m.\u001b[39mthe_commands, words[\u001b[38;5;241m0\u001b[39m], \u001b[38;5;124m'\u001b[39m\u001b[38;5;124mdo_\u001b[39m\u001b[38;5;124m'\u001b[39m)\n\u001b[0;32m---> 53\u001b[0m (fn)(\u001b[38;5;28mself\u001b[39m, words)\n",
      "File \u001b[0;32m/mnt/cc2f6487-e405-4b66-8e8e-faf34337ca27/home/john/robots/robot/command.py:62\u001b[0m, in \u001b[0;36mCommandInterpreter.do_quit\u001b[0;34m(self, words)\u001b[0m\n\u001b[1;32m     61\u001b[0m \u001b[38;5;28;01mdef\u001b[39;00m \u001b[38;5;21mdo_quit\u001b[39m(\u001b[38;5;28mself\u001b[39m, words: \u001b[38;5;28mlist\u001b[39m[\u001b[38;5;28mstr\u001b[39m]) \u001b[38;5;241m-\u001b[39m\u001b[38;5;241m>\u001b[39m \u001b[38;5;28;01mNone\u001b[39;00m:\n\u001b[0;32m---> 62\u001b[0m     \u001b[38;5;28;01mraise\u001b[39;00m \u001b[38;5;167;01mEOFError\u001b[39;00m()\n",
      "\u001b[0;31mEOFError\u001b[0m: "
     ]
    }
   ],
   "source": [
    "c.execute('qu')"
   ]
  },
  {
   "cell_type": "code",
   "execution_count": null,
   "id": "1384be2f-4e6d-43bb-92ae-927f2e02609c",
   "metadata": {},
   "outputs": [],
   "source": []
  }
 ],
 "metadata": {
  "kernelspec": {
   "display_name": "Python 3 (ipykernel)",
   "language": "python",
   "name": "python3"
  },
  "language_info": {
   "codemirror_mode": {
    "name": "ipython",
    "version": 3
   },
   "file_extension": ".py",
   "mimetype": "text/x-python",
   "name": "python",
   "nbconvert_exporter": "python",
   "pygments_lexer": "ipython3",
   "version": "3.12.2"
  }
 },
 "nbformat": 4,
 "nbformat_minor": 5
}
